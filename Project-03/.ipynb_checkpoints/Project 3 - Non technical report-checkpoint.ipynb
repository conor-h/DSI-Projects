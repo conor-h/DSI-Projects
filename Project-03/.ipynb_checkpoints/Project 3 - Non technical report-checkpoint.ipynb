{
 "cells": [
  {
   "cell_type": "markdown",
   "metadata": {},
   "source": [
    "## Salary Predictions for Data Science Professionals\n",
    "### Non-technical Report"
   ]
  },
  {
   "cell_type": "markdown",
   "metadata": {},
   "source": [
    "#### Executive Summary\n",
    "\n",
    "The aim of this report is to analyse job board listings from [Indeed.com](Indeed.com) in several major US tech cities to establish a predictor for salary amounts. Salary information was scraped from the job listing boards online and analysed to identify industry factors.\n",
    "\n",
    "The analysis highlighted key factors present in the job listings that can be directly associated with higher salaries, such as location, job title key words, and job summary kew words.\n"
   ]
  },
  {
   "cell_type": "markdown",
   "metadata": {},
   "source": [
    "#### Introduction\n",
    "\n",
    "As a rapidly expanding consultancy the main focus is to be competitive in the hiring market. To achieve this there needs to be an accurate gauge of salary amounts, taking into account what industry factors influence the pay scale for these professionals. We need to juggle offering attractive salaries to contractors while providing value for money to the clients. \n",
    "\n",
    "Having an accurate predictor model for assesing salaries would help us mantain a competive edge while remaining profitable as a business.\n",
    "\n"
   ]
  },
  {
   "cell_type": "markdown",
   "metadata": {},
   "source": [
    "#### Methods\n",
    "7662 listing were scraped from Indeed.com when seaching for Data Science jobs in 18 major US tech cities. From these only 330 job listings has salary information.\n",
    "\n",
    "Along with the salary information, the location, job title, job summary, and company name were recorded. After some initial data cleaning, key factors for predicting the salary were selected. \n",
    "\n",
    "These were - \n",
    "\n",
    "- City\n",
    "- Key words\n",
    "    - Job title\n",
    "    - Job summary \n",
    "    \n",
    "Using these predictors were able to estimate whether a job would have a high or low salary in relation to the median salary for Data Science roles ($73,000). This was done by running the identified predictor variables through several statistical models to find best model for out research. \n",
    "\n",
    "Once found this model was fine tuned to optimise the prediction."
   ]
  },
  {
   "cell_type": "markdown",
   "metadata": {},
   "source": [
    "#### Findings\n",
    "Our findings identified that more senior roles got paid higher salaries but this is not surprising. Data Engineers were stood out as recieving higher salaries that most as did Analyst roles.\n",
    "\n",
    "Several cities also were factors in getting paid a higher salary, Boston, San Francisco and San Jose were the front runners. Again this is to be expected and they are centres of tech education and innovation.\n",
    "\n",
    "Finally, contractors with computer science, and data experience are most liekly to recieve higher salaries.\n",
    "\n",
    "<img src='./Lasso_Model.png'>\n",
    "\n",
    "A chart of the key coeffecients can be seen above."
   ]
  },
  {
   "cell_type": "markdown",
   "metadata": {},
   "source": [
    "#### Conclusion\n",
    "Using our model we were able to accurately predict whether a data science role wuld warrent a high or low salary based on the key factors. \n",
    "With fine tuning our model's accuracy was improved. \n",
    "\n",
    "One of our main concerns as a business was not pricing correctly for our serices and/or over paying consultants. Using our model we can assuade our concerns."
   ]
  },
  {
   "cell_type": "markdown",
   "metadata": {},
   "source": [
    "#### Recommendations\n",
    "Given additional time I would recommend the company - \n",
    "\n",
    "- Keep the model updated by scraping from Indeed.com on a regular to ensure our predictors are current\n",
    "- Get more detailed job summaries for the roles and a perform key word search again to get more accurate predictors\n",
    "- Scrape other job boards to access other markets not reached by Indeed.com\n",
    "- Search over a wider range of salaries to create a more accurate model"
   ]
  },
  {
   "cell_type": "code",
   "execution_count": null,
   "metadata": {
    "collapsed": true
   },
   "outputs": [],
   "source": []
  }
 ],
 "metadata": {
  "anaconda-cloud": {},
  "kernelspec": {
   "display_name": "Python [default]",
   "language": "python",
   "name": "python2"
  },
  "language_info": {
   "codemirror_mode": {
    "name": "ipython",
    "version": 2
   },
   "file_extension": ".py",
   "mimetype": "text/x-python",
   "name": "python",
   "nbconvert_exporter": "python",
   "pygments_lexer": "ipython2",
   "version": "2.7.12"
  }
 },
 "nbformat": 4,
 "nbformat_minor": 2
}
